{
 "cells": [
  {
   "cell_type": "code",
   "execution_count": 14,
   "metadata": {},
   "outputs": [],
   "source": [
    "import pandas as pd\n",
    "import operator\n",
    "from google_images_download import google_images_download"
   ]
  },
  {
   "cell_type": "code",
   "execution_count": 15,
   "metadata": {},
   "outputs": [],
   "source": [
    "path_animals = '/Users/juan/Documents/manu/dev/yas/dev/animals.csv'\n",
    "path_images = '/Users/juan/Documents/manu/dev/yas/dev/imgs'"
   ]
  },
  {
   "cell_type": "code",
   "execution_count": 16,
   "metadata": {},
   "outputs": [],
   "source": [
    "df = pd.read_csv(path_animals)"
   ]
  },
  {
   "cell_type": "code",
   "execution_count": 17,
   "metadata": {},
   "outputs": [
    {
     "name": "stdout",
     "output_type": "stream",
     "text": [
      "94\n"
     ]
    },
    {
     "data": {
      "text/html": [
       "<div>\n",
       "<style scoped>\n",
       "    .dataframe tbody tr th:only-of-type {\n",
       "        vertical-align: middle;\n",
       "    }\n",
       "\n",
       "    .dataframe tbody tr th {\n",
       "        vertical-align: top;\n",
       "    }\n",
       "\n",
       "    .dataframe thead th {\n",
       "        text-align: right;\n",
       "    }\n",
       "</style>\n",
       "<table border=\"1\" class=\"dataframe\">\n",
       "  <thead>\n",
       "    <tr style=\"text-align: right;\">\n",
       "      <th></th>\n",
       "      <th>filename</th>\n",
       "      <th>Aardvark</th>\n",
       "      <th>African buffalo</th>\n",
       "      <th>African caracal</th>\n",
       "      <th>Baboon</th>\n",
       "      <th>Bat-eared fox</th>\n",
       "      <th>Rhinoceros</th>\n",
       "      <th>Bushbaby</th>\n",
       "      <th>Cheetah</th>\n",
       "      <th>Chimpanzee</th>\n",
       "      <th>...</th>\n",
       "      <th>Wild dog</th>\n",
       "      <th>Wildebeest</th>\n",
       "      <th>Zebra</th>\n",
       "      <th>Chameleon</th>\n",
       "      <th>Kudu</th>\n",
       "      <th>Ostrich</th>\n",
       "      <th>Eland</th>\n",
       "      <th>Mandrill</th>\n",
       "      <th>Lowland gorilla</th>\n",
       "      <th>Oryx</th>\n",
       "    </tr>\n",
       "  </thead>\n",
       "  <tbody>\n",
       "    <tr>\n",
       "      <th>0</th>\n",
       "      <td>images/photos/2013/4/image_6</td>\n",
       "      <td>0</td>\n",
       "      <td>0</td>\n",
       "      <td>0</td>\n",
       "      <td>0</td>\n",
       "      <td>0</td>\n",
       "      <td>0</td>\n",
       "      <td>0</td>\n",
       "      <td>0</td>\n",
       "      <td>0</td>\n",
       "      <td>...</td>\n",
       "      <td>0</td>\n",
       "      <td>0</td>\n",
       "      <td>0</td>\n",
       "      <td>0</td>\n",
       "      <td>0</td>\n",
       "      <td>0</td>\n",
       "      <td>0</td>\n",
       "      <td>0</td>\n",
       "      <td>0</td>\n",
       "      <td>0</td>\n",
       "    </tr>\n",
       "    <tr>\n",
       "      <th>1</th>\n",
       "      <td>images/photos/2013/4/image_8</td>\n",
       "      <td>0</td>\n",
       "      <td>0</td>\n",
       "      <td>0</td>\n",
       "      <td>0</td>\n",
       "      <td>0</td>\n",
       "      <td>0</td>\n",
       "      <td>0</td>\n",
       "      <td>0</td>\n",
       "      <td>0</td>\n",
       "      <td>...</td>\n",
       "      <td>0</td>\n",
       "      <td>0</td>\n",
       "      <td>0</td>\n",
       "      <td>0</td>\n",
       "      <td>0</td>\n",
       "      <td>0</td>\n",
       "      <td>0</td>\n",
       "      <td>0</td>\n",
       "      <td>0</td>\n",
       "      <td>0</td>\n",
       "    </tr>\n",
       "  </tbody>\n",
       "</table>\n",
       "<p>2 rows × 48 columns</p>\n",
       "</div>"
      ],
      "text/plain": [
       "                       filename  Aardvark  African buffalo  African caracal  \\\n",
       "0  images/photos/2013/4/image_6         0                0                0   \n",
       "1  images/photos/2013/4/image_8         0                0                0   \n",
       "\n",
       "   Baboon  Bat-eared fox  Rhinoceros  Bushbaby  Cheetah  Chimpanzee  ...  \\\n",
       "0       0              0           0         0        0           0  ...   \n",
       "1       0              0           0         0        0           0  ...   \n",
       "\n",
       "   Wild dog  Wildebeest  Zebra  Chameleon  Kudu  Ostrich  Eland  Mandrill  \\\n",
       "0         0           0      0          0     0        0      0         0   \n",
       "1         0           0      0          0     0        0      0         0   \n",
       "\n",
       "   Lowland gorilla  Oryx  \n",
       "0                0     0  \n",
       "1                0     0  \n",
       "\n",
       "[2 rows x 48 columns]"
      ]
     },
     "execution_count": 17,
     "metadata": {},
     "output_type": "execute_result"
    }
   ],
   "source": [
    "print(len(df.index))\n",
    "df.head(2)"
   ]
  },
  {
   "cell_type": "code",
   "execution_count": 18,
   "metadata": {},
   "outputs": [
    {
     "data": {
      "text/plain": [
       "['Aardvark', 'African buffalo', 'African caracal']"
      ]
     },
     "execution_count": 18,
     "metadata": {},
     "output_type": "execute_result"
    }
   ],
   "source": [
    "animals = list(df.columns[1:])\n",
    "animals[:3]"
   ]
  },
  {
   "cell_type": "code",
   "execution_count": 19,
   "metadata": {},
   "outputs": [],
   "source": [
    "animals_count = {}\n",
    "for animal in animals:\n",
    "    animals_count[animal] = len(df[df[animal] == 1].index)"
   ]
  },
  {
   "cell_type": "code",
   "execution_count": 20,
   "metadata": {},
   "outputs": [
    {
     "data": {
      "text/plain": [
       "('Lion', 23)"
      ]
     },
     "execution_count": 20,
     "metadata": {},
     "output_type": "execute_result"
    }
   ],
   "source": [
    "max_count = max(animals_count.items(), key=operator.itemgetter(1))[1]\n",
    "max_animal = max(animals_count.items(), key=operator.itemgetter(1))[0]\n",
    "max_animal, max_count"
   ]
  },
  {
   "cell_type": "code",
   "execution_count": null,
   "metadata": {},
   "outputs": [],
   "source": []
  },
  {
   "cell_type": "code",
   "execution_count": 27,
   "metadata": {},
   "outputs": [
    {
     "name": "stdout",
     "output_type": "stream",
     "text": [
      "Aardvark 23\n",
      "\n",
      "Item no.: 1 --> Item name = Aardvark\n",
      "Evaluating...\n",
      "Starting Download...\n",
      "Image URL: https://www.thoughtco.com/thmb/HvCW3bmevS0e9t94U4vMb0Ijmq0=/768x0/filters:no_upscale():max_bytes(150000):strip_icc()/kenya--masai-mara-game-reserve--aardvark--orycteropus-afer--154773750-5ab00f47a9d4f90037e6ad38.jpg\n",
      "Completed Image ====> 1.kenya--masai-mara-game-reserve--aardvark--orycteropus-afer--154773750-5ab00f47a9d4f90037e6ad38.jpg\n",
      "Image URL: https://www.chesterzoo.org/app/uploads/2019/04/2016-Aardvark-2-in-the-zoo-square.jpg\n",
      "Completed Image ====> 2.2016-Aardvark-2-in-the-zoo-square.jpg\n",
      "Image URL: https://www.nationalgeographic.com/content/dam/animals/thumbs/rights-exempt/mammals/a/aardvark_thumb.ngsversion.1474903830105.adapt.1900.1.JPG\n",
      "IOError on an image...trying next one... Error: The read operation timed out\n",
      "Image URL: https://res.cloudinary.com/dk-find-out/image/upload/q_80,w_1920,f_auto/00315808_p67ehh.jpg\n",
      "Completed Image ====> 3.00315808_p67ehh.jpg\n",
      "\n",
      "Errors: 1\n",
      "\n",
      "({'Aardvark': ['/Users/juan/Documents/manu/dev/yas/dev/imgs/Aardvark/1.kenya--masai-mara-game-reserve--aardvark--orycteropus-afer--154773750-5ab00f47a9d4f90037e6ad38.jpg', '/Users/juan/Documents/manu/dev/yas/dev/imgs/Aardvark/2.2016-Aardvark-2-in-the-zoo-square.jpg', '/Users/juan/Documents/manu/dev/yas/dev/imgs/Aardvark/3.00315808_p67ehh.jpg']}, 1)\n",
      "/Users/juan/Documents/manu/dev/yas/dev/imgs/Aardvark/1.kenya--masai-mara-game-reserve--aardvark--orycteropus-afer--154773750-5ab00f47a9d4f90037e6ad38.jpg\n",
      "/Users/juan/Documents/manu/dev/yas/dev/imgs/Aardvark/2.2016-Aardvark-2-in-the-zoo-square.jpg\n",
      "/Users/juan/Documents/manu/dev/yas/dev/imgs/Aardvark/3.00315808_p67ehh.jpg\n"
     ]
    }
   ],
   "source": [
    "# SET UP CRAWLER\n",
    "#google_crawler = GoogleImageCrawler(storage={'root_dir': path_images})\n",
    "filters = dict(type='photo')\n",
    "for animal, count in animals_count.items():\n",
    "    download_count = max_count - count\n",
    "    print(animal, download_count)\n",
    "    max_num = 3\n",
    "    response = google_images_download.googleimagesdownload()   #class instantiation\n",
    "    arguments = {\"keywords\":animal,\"limit\": max_num,\"print_urls\":True, \"output_directory\":path_images}\n",
    "    paths = response.download(arguments)   #passing the arguments to the function\n",
    "    print(paths)\n",
    "\n",
    "    for path in paths[0][animal]:\n",
    "        print(path)\n",
    "    break"
   ]
  },
  {
   "cell_type": "code",
   "execution_count": null,
   "metadata": {},
   "outputs": [],
   "source": []
  },
  {
   "cell_type": "code",
   "execution_count": null,
   "metadata": {},
   "outputs": [],
   "source": []
  },
  {
   "cell_type": "code",
   "execution_count": null,
   "metadata": {},
   "outputs": [],
   "source": []
  },
  {
   "cell_type": "code",
   "execution_count": null,
   "metadata": {},
   "outputs": [],
   "source": []
  },
  {
   "cell_type": "code",
   "execution_count": null,
   "metadata": {},
   "outputs": [],
   "source": []
  },
  {
   "cell_type": "code",
   "execution_count": null,
   "metadata": {},
   "outputs": [],
   "source": []
  },
  {
   "cell_type": "code",
   "execution_count": null,
   "metadata": {},
   "outputs": [],
   "source": []
  },
  {
   "cell_type": "code",
   "execution_count": null,
   "metadata": {},
   "outputs": [],
   "source": []
  },
  {
   "cell_type": "code",
   "execution_count": null,
   "metadata": {},
   "outputs": [],
   "source": []
  },
  {
   "cell_type": "code",
   "execution_count": null,
   "metadata": {},
   "outputs": [],
   "source": []
  },
  {
   "cell_type": "code",
   "execution_count": null,
   "metadata": {},
   "outputs": [],
   "source": []
  }
 ],
 "metadata": {
  "kernelspec": {
   "display_name": "Python 3",
   "language": "python",
   "name": "python3"
  },
  "language_info": {
   "codemirror_mode": {
    "name": "ipython",
    "version": 3
   },
   "file_extension": ".py",
   "mimetype": "text/x-python",
   "name": "python",
   "nbconvert_exporter": "python",
   "pygments_lexer": "ipython3",
   "version": "3.7.3"
  }
 },
 "nbformat": 4,
 "nbformat_minor": 2
}
