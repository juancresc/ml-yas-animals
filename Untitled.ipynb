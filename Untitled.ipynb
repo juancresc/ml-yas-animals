{
 "cells": [
  {
   "cell_type": "code",
   "execution_count": 26,
   "metadata": {},
   "outputs": [],
   "source": [
    "import pandas as pd\n",
    "import operator\n",
    "from icrawler.builtin import GoogleImageCrawler"
   ]
  },
  {
   "cell_type": "code",
   "execution_count": 27,
   "metadata": {},
   "outputs": [],
   "source": [
    "path_animals = '/Users/juan/Documents/manu/dev/yas/dev/animals.csv'\n",
    "path_images = '/Users/juan/Documents/manu/dev/yas/dev/imgs'"
   ]
  },
  {
   "cell_type": "code",
   "execution_count": 28,
   "metadata": {},
   "outputs": [],
   "source": [
    "df = pd.read_csv(path_animals)"
   ]
  },
  {
   "cell_type": "code",
   "execution_count": 29,
   "metadata": {},
   "outputs": [
    {
     "name": "stdout",
     "output_type": "stream",
     "text": [
      "94\n"
     ]
    },
    {
     "data": {
      "text/html": [
       "<div>\n",
       "<style scoped>\n",
       "    .dataframe tbody tr th:only-of-type {\n",
       "        vertical-align: middle;\n",
       "    }\n",
       "\n",
       "    .dataframe tbody tr th {\n",
       "        vertical-align: top;\n",
       "    }\n",
       "\n",
       "    .dataframe thead th {\n",
       "        text-align: right;\n",
       "    }\n",
       "</style>\n",
       "<table border=\"1\" class=\"dataframe\">\n",
       "  <thead>\n",
       "    <tr style=\"text-align: right;\">\n",
       "      <th></th>\n",
       "      <th>filename</th>\n",
       "      <th>Aardvark</th>\n",
       "      <th>African buffalo</th>\n",
       "      <th>African caracal</th>\n",
       "      <th>Baboon</th>\n",
       "      <th>Bat-eared fox</th>\n",
       "      <th>Rhinoceros</th>\n",
       "      <th>Bushbaby</th>\n",
       "      <th>Cheetah</th>\n",
       "      <th>Chimpanzee</th>\n",
       "      <th>...</th>\n",
       "      <th>Wild dog</th>\n",
       "      <th>Wildebeest</th>\n",
       "      <th>Zebra</th>\n",
       "      <th>Chameleon</th>\n",
       "      <th>Kudu</th>\n",
       "      <th>Ostrich</th>\n",
       "      <th>Eland</th>\n",
       "      <th>Mandrill</th>\n",
       "      <th>Lowland gorilla</th>\n",
       "      <th>Oryx</th>\n",
       "    </tr>\n",
       "  </thead>\n",
       "  <tbody>\n",
       "    <tr>\n",
       "      <th>0</th>\n",
       "      <td>images/photos/2013/4/image_6</td>\n",
       "      <td>0</td>\n",
       "      <td>0</td>\n",
       "      <td>0</td>\n",
       "      <td>0</td>\n",
       "      <td>0</td>\n",
       "      <td>0</td>\n",
       "      <td>0</td>\n",
       "      <td>0</td>\n",
       "      <td>0</td>\n",
       "      <td>...</td>\n",
       "      <td>0</td>\n",
       "      <td>0</td>\n",
       "      <td>0</td>\n",
       "      <td>0</td>\n",
       "      <td>0</td>\n",
       "      <td>0</td>\n",
       "      <td>0</td>\n",
       "      <td>0</td>\n",
       "      <td>0</td>\n",
       "      <td>0</td>\n",
       "    </tr>\n",
       "    <tr>\n",
       "      <th>1</th>\n",
       "      <td>images/photos/2013/4/image_8</td>\n",
       "      <td>0</td>\n",
       "      <td>0</td>\n",
       "      <td>0</td>\n",
       "      <td>0</td>\n",
       "      <td>0</td>\n",
       "      <td>0</td>\n",
       "      <td>0</td>\n",
       "      <td>0</td>\n",
       "      <td>0</td>\n",
       "      <td>...</td>\n",
       "      <td>0</td>\n",
       "      <td>0</td>\n",
       "      <td>0</td>\n",
       "      <td>0</td>\n",
       "      <td>0</td>\n",
       "      <td>0</td>\n",
       "      <td>0</td>\n",
       "      <td>0</td>\n",
       "      <td>0</td>\n",
       "      <td>0</td>\n",
       "    </tr>\n",
       "  </tbody>\n",
       "</table>\n",
       "<p>2 rows × 48 columns</p>\n",
       "</div>"
      ],
      "text/plain": [
       "                       filename  Aardvark  African buffalo  African caracal  \\\n",
       "0  images/photos/2013/4/image_6         0                0                0   \n",
       "1  images/photos/2013/4/image_8         0                0                0   \n",
       "\n",
       "   Baboon  Bat-eared fox  Rhinoceros  Bushbaby  Cheetah  Chimpanzee  ...  \\\n",
       "0       0              0           0         0        0           0  ...   \n",
       "1       0              0           0         0        0           0  ...   \n",
       "\n",
       "   Wild dog  Wildebeest  Zebra  Chameleon  Kudu  Ostrich  Eland  Mandrill  \\\n",
       "0         0           0      0          0     0        0      0         0   \n",
       "1         0           0      0          0     0        0      0         0   \n",
       "\n",
       "   Lowland gorilla  Oryx  \n",
       "0                0     0  \n",
       "1                0     0  \n",
       "\n",
       "[2 rows x 48 columns]"
      ]
     },
     "execution_count": 29,
     "metadata": {},
     "output_type": "execute_result"
    }
   ],
   "source": [
    "print(len(df.index))\n",
    "df.head(2)"
   ]
  },
  {
   "cell_type": "code",
   "execution_count": 30,
   "metadata": {},
   "outputs": [
    {
     "data": {
      "text/plain": [
       "['Aardvark', 'African buffalo', 'African caracal']"
      ]
     },
     "execution_count": 30,
     "metadata": {},
     "output_type": "execute_result"
    }
   ],
   "source": [
    "animals = list(df.columns[1:])\n",
    "animals[:3]"
   ]
  },
  {
   "cell_type": "code",
   "execution_count": 31,
   "metadata": {},
   "outputs": [],
   "source": [
    "animals_count = {}\n",
    "for animal in animals:\n",
    "    animals_count[animal] = len(df[df[animal] == 1].index)"
   ]
  },
  {
   "cell_type": "code",
   "execution_count": 32,
   "metadata": {},
   "outputs": [
    {
     "data": {
      "text/plain": [
       "('Lion', 23)"
      ]
     },
     "execution_count": 32,
     "metadata": {},
     "output_type": "execute_result"
    }
   ],
   "source": [
    "max_count = max(animals_count.items(), key=operator.itemgetter(1))[1]\n",
    "max_animal = max(animals_count.items(), key=operator.itemgetter(1))[0]\n",
    "max_animal, max_count"
   ]
  },
  {
   "cell_type": "code",
   "execution_count": 44,
   "metadata": {},
   "outputs": [],
   "source": []
  },
  {
   "cell_type": "code",
   "execution_count": 47,
   "metadata": {},
   "outputs": [
    {
     "name": "stderr",
     "output_type": "stream",
     "text": [
      "2019-10-09 10:49:25,227 - INFO - icrawler.crawler - start crawling...\n",
      "2019-10-09 10:49:25,227 - INFO - icrawler.crawler - starting 1 feeder threads...\n",
      "2019-10-09 10:49:25,230 - INFO - feeder - thread feeder-001 exit\n",
      "2019-10-09 10:49:25,230 - INFO - icrawler.crawler - starting 1 parser threads...\n",
      "2019-10-09 10:49:25,234 - INFO - icrawler.crawler - starting 1 downloader threads...\n"
     ]
    },
    {
     "name": "stdout",
     "output_type": "stream",
     "text": [
      "Aardvark 23\n"
     ]
    },
    {
     "name": "stderr",
     "output_type": "stream",
     "text": [
      "2019-10-09 10:49:25,737 - INFO - parser - parsing result page https://www.google.com/search?q=Aardvark&ijn=0&start=0&tbs=itp%3Aphoto&tbm=isch\n",
      "2019-10-09 10:49:25,816 - INFO - downloader - skip downloading file 000001.jpg\n",
      "2019-10-09 10:49:25,817 - INFO - downloader - skip downloading file 000002.jpg\n",
      "2019-10-09 10:49:31,304 - ERROR - downloader - Exception caught when downloading file https://www.nationalgeographic.com/content/dam/animals/thumbs/rights-exempt/mammals/a/aardvark_thumb.ngsversion.1474903830105.adapt.1900.1.JPG, error: HTTPSConnectionPool(host='www.nationalgeographic.com', port=443): Read timed out. (read timeout=5), remaining retry times: 2\n",
      "2019-10-09 10:49:32,416 - INFO - downloader - image #3\thttps://www.nationalgeographic.com/content/dam/animals/thumbs/rights-exempt/mammals/a/aardvark_thumb.ngsversion.1474903830105.adapt.1900.1.JPG\n",
      "2019-10-09 10:49:32,780 - INFO - downloader - downloaded images reach max num, thread downloader-001 is ready to exit\n",
      "2019-10-09 10:49:32,781 - INFO - downloader - thread downloader-001 exit\n",
      "2019-10-09 10:49:33,260 - INFO - icrawler.crawler - Crawling task done!\n",
      "2019-10-09 10:49:33,424 - INFO - parser - downloaded image reached max num, thread parser-001 is ready to exit\n",
      "2019-10-09 10:49:33,425 - INFO - parser - thread parser-001 exit\n"
     ]
    }
   ],
   "source": [
    "# SET UP CRAWLER\n",
    "google_crawler = GoogleImageCrawler(storage={'root_dir': path_images})\n",
    "filters = dict(type='photo')\n",
    "for animal, count in animals_count.items():\n",
    "    download_count = max_count - count\n",
    "    print(animal, download_count)\n",
    "    google_crawler.crawl(keyword=animal, filters=filters, max_num=3, file_idx_offset=0)\n",
    "    break"
   ]
  },
  {
   "cell_type": "code",
   "execution_count": null,
   "metadata": {},
   "outputs": [],
   "source": []
  },
  {
   "cell_type": "code",
   "execution_count": null,
   "metadata": {},
   "outputs": [],
   "source": []
  },
  {
   "cell_type": "code",
   "execution_count": null,
   "metadata": {},
   "outputs": [],
   "source": []
  },
  {
   "cell_type": "code",
   "execution_count": null,
   "metadata": {},
   "outputs": [],
   "source": []
  },
  {
   "cell_type": "code",
   "execution_count": null,
   "metadata": {},
   "outputs": [],
   "source": []
  },
  {
   "cell_type": "code",
   "execution_count": null,
   "metadata": {},
   "outputs": [],
   "source": []
  },
  {
   "cell_type": "code",
   "execution_count": null,
   "metadata": {},
   "outputs": [],
   "source": []
  },
  {
   "cell_type": "code",
   "execution_count": null,
   "metadata": {},
   "outputs": [],
   "source": []
  },
  {
   "cell_type": "code",
   "execution_count": null,
   "metadata": {},
   "outputs": [],
   "source": []
  },
  {
   "cell_type": "code",
   "execution_count": null,
   "metadata": {},
   "outputs": [],
   "source": []
  },
  {
   "cell_type": "code",
   "execution_count": null,
   "metadata": {},
   "outputs": [],
   "source": []
  }
 ],
 "metadata": {
  "kernelspec": {
   "display_name": "Python 3",
   "language": "python",
   "name": "python3"
  },
  "language_info": {
   "codemirror_mode": {
    "name": "ipython",
    "version": 3
   },
   "file_extension": ".py",
   "mimetype": "text/x-python",
   "name": "python",
   "nbconvert_exporter": "python",
   "pygments_lexer": "ipython3",
   "version": "3.7.3"
  }
 },
 "nbformat": 4,
 "nbformat_minor": 2
}
